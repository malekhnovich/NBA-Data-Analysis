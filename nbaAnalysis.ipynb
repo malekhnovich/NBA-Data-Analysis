{
 "cells": [
  {
   "cell_type": "code",
   "execution_count": 15,
   "metadata": {
    "collapsed": false
   },
   "outputs": [],
   "source": [
    "import pandas as pd\n",
    "from scipy.stats import mode\n",
    "import pprint \n"
   ]
  },
  {
   "cell_type": "code",
   "execution_count": 8,
   "metadata": {},
   "outputs": [
    {
     "name": "stdout",
     "output_type": "stream",
     "text": [
      "('number of rows in sepbs', 26109)\n"
     ]
    }
   ],
   "source": [
    "se_pbs = pd.read_csv('/Users/maxalekhnovich/Downloads/2017-18_playerBoxScore.csv')\n"
   ]
  },
  {
   "cell_type": "code",
   "execution_count": 10,
   "metadata": {},
   "outputs": [
    {
     "name": "stdout",
     "output_type": "stream",
     "text": [
      "('number of rows in sepbs', 26109)\nIndex([u'gmDate', u'gmTime', u'seasTyp', u'playLNm', u'playFNm', u'teamAbbr',\n       u'teamConf', u'teamDiv', u'teamLoc', u'teamRslt', u'teamDayOff',\n       u'offLNm1', u'offFNm1', u'offLNm2', u'offFNm2', u'offLNm3', u'offFNm3',\n       u'playDispNm', u'playStat', u'playMin', u'playPos', u'playHeight',\n       u'playWeight', u'playBDate', u'playPTS', u'playAST', u'playTO',\n       u'playSTL', u'playBLK', u'playPF', u'playFGA', u'playFGM', u'playFG%',\n       u'play2PA', u'play2PM', u'play2P%', u'play3PA', u'play3PM', u'play3P%',\n       u'playFTA', u'playFTM', u'playFT%', u'playORB', u'playDRB', u'playTRB',\n       u'opptAbbr', u'opptConf', u'opptDiv', u'opptLoc', u'opptRslt',\n       u'opptDayOff'],\n      dtype='object')\n"
     ]
    }
   ],
   "source": [
    "rowNumber = len(se_pbs)\n",
    "print(\"number of rows in sepbs\",rowNumber)\n",
    "columns  = se_pbs.columns\n",
    "print(\"columns in sepbs are \",columns)"
   ]
  },
  {
   "cell_type": "code",
   "execution_count": 12,
   "metadata": {},
   "outputs": [
    {
     "name": "stdout",
     "output_type": "stream",
     "text": [
      "40\n"
     ]
    }
   ],
   "source": [
    "\n",
    "# anyNulls = se_pbs.isnull().values.sum()\n",
    "#There are nulls \n",
    "#how many nulls are there in the dataset\n",
    "totalNulls = se_pbs.isnull().values.sum()\n",
    "print(\"There are this many nulls in sepb\",totalNulls)\n",
    "\n"
   ]
  },
  {
   "cell_type": "code",
   "execution_count": 13,
   "metadata": {},
   "outputs": [
    {
     "name": "stdout",
     "output_type": "stream",
     "text": [
      "Missing values per column\n"
     ]
    },
    {
     "name": "stdout",
     "output_type": "stream",
     "text": [
      "gmDate         0\ngmTime         0\nseasTyp        0\nplayLNm        0\nplayFNm        0\nteamAbbr       0\nteamConf       0\nteamDiv        0\nteamLoc        0\nteamRslt       0\nteamDayOff     0\noffLNm1        0\noffFNm1        0\noffLNm2        0\noffFNm2        0\noffLNm3       20\noffFNm3       20\nplayDispNm     0\nplayStat       0\nplayMin        0\nplayPos        0\nplayHeight     0\nplayWeight     0\nplayBDate      0\nplayPTS        0\nplayAST        0\nplayTO         0\nplaySTL        0\nplayBLK        0\nplayPF         0\nplayFGA        0\nplayFGM        0\nplayFG%        0\nplay2PA        0\nplay2PM        0\nplay2P%        0\nplay3PA        0\nplay3PM        0\nplay3P%        0\nplayFTA        0\nplayFTM        0\nplayFT%        0\nplayORB        0\nplayDRB        0\nplayTRB        0\nopptAbbr       0\nopptConf       0\nopptDiv        0\nopptLoc        0\nopptRslt       0\nopptDayOff     0\ndtype: int64\n"
     ]
    },
    {
     "name": "stdout",
     "output_type": "stream",
     "text": [
      "0    0\n1    0\n2    0\n3    0\n4    0\ndtype: int64\n"
     ]
    }
   ],
   "source": [
    "#creating a function for null values\n",
    "def num_missing(x):\n",
    "    return sum(x.isnull())\n",
    "#applying per column\n",
    "print(\"Missing values per column\")\n",
    "print(se_pbs.apply(num_missing,axis = 0))\n",
    "#axis equaling zero to be applied on each column\n",
    "print(se_pbs.apply(num_missing,axis = 1).head())\n",
    "#axis equaling 1 to be applied on each row"
   ]
  },
  {
   "cell_type": "code",
   "execution_count": 18,
   "metadata": {},
   "outputs": [
    {
     "name": "stdout",
     "output_type": "stream",
     "text": [
      "gmDate         0\ngmTime         0\nseasTyp        0\nplayLNm        0\nplayFNm        0\nteamAbbr       0\nteamConf       0\nteamDiv        0\nteamLoc        0\nteamRslt       0\nteamDayOff     0\noffLNm1        0\noffFNm1        0\noffLNm2        0\noffFNm2        0\noffLNm3        0\noffFNm3       20\nplayDispNm     0\nplayStat       0\nplayMin        0\nplayPos        0\nplayHeight     0\nplayWeight     0\nplayBDate      0\nplayPTS        0\nplayAST        0\nplayTO         0\nplaySTL        0\nplayBLK        0\nplayPF         0\nplayFGA        0\nplayFGM        0\nplayFG%        0\nplay2PA        0\nplay2PM        0\nplay2P%        0\nplay3PA        0\nplay3PM        0\nplay3P%        0\nplayFTA        0\nplayFTM        0\nplayFT%        0\nplayORB        0\nplayDRB        0\nplayTRB        0\nopptAbbr       0\nopptConf       0\nopptDiv        0\nopptLoc        0\nopptRslt       0\nopptDayOff     0\ndtype: int64\n"
     ]
    }
   ],
   "source": [
    "#replace null values with mean for offLNm3\n",
    "mode(se_pbs['offLNm3']).mode[0]\n",
    "se_pbs['offLNm3'].fillna(mode(se_pbs['offLNm3']).mode[0],inplace = True)\n",
    "print(se_pbs.apply(num_missing,axis = 0))"
   ]
  },
  {
   "cell_type": "code",
   "execution_count": 19,
   "metadata": {},
   "outputs": [
    {
     "name": "stdout",
     "output_type": "stream",
     "text": [
      "gmDate        0\ngmTime        0\nseasTyp       0\nplayLNm       0\nplayFNm       0\nteamAbbr      0\nteamConf      0\nteamDiv       0\nteamLoc       0\nteamRslt      0\nteamDayOff    0\noffLNm1       0\noffFNm1       0\noffLNm2       0\noffFNm2       0\noffLNm3       0\noffFNm3       0\nplayDispNm    0\nplayStat      0\nplayMin       0\nplayPos       0\nplayHeight    0\nplayWeight    0\nplayBDate     0\nplayPTS       0\nplayAST       0\nplayTO        0\nplaySTL       0\nplayBLK       0\nplayPF        0\nplayFGA       0\nplayFGM       0\nplayFG%       0\nplay2PA       0\nplay2PM       0\nplay2P%       0\nplay3PA       0\nplay3PM       0\nplay3P%       0\nplayFTA       0\nplayFTM       0\nplayFT%       0\nplayORB       0\nplayDRB       0\nplayTRB       0\nopptAbbr      0\nopptConf      0\nopptDiv       0\nopptLoc       0\nopptRslt      0\nopptDayOff    0\ndtype: int64\n"
     ]
    }
   ],
   "source": [
    "#replacing null values for offFNm3\n",
    "mode(se_pbs['offFNm3']).mode[0]\n",
    "se_pbs['offFNm3'].fillna(mode(se_pbs['offFNm3']).mode[0],inplace = True)\n",
    "print(se_pbs.apply(num_missing,axis = 0))"
   ]
  },
  {
   "cell_type": "code",
   "execution_count": null,
   "metadata": {},
   "outputs": [],
   "source": []
  }
 ],
 "metadata": {
  "kernelspec": {
   "display_name": "Python 2",
   "language": "python",
   "name": "python2"
  },
  "language_info": {
   "codemirror_mode": {
    "name": "ipython",
    "version": 2
   },
   "file_extension": ".py",
   "mimetype": "text/x-python",
   "name": "python",
   "nbconvert_exporter": "python",
   "pygments_lexer": "ipython2",
   "version": "2.7.6"
  }
 },
 "nbformat": 4,
 "nbformat_minor": 0
}
